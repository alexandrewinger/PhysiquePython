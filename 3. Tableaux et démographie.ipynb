{
 "cells": [
  {
   "cell_type": "markdown",
   "metadata": {},
   "source": [
    "# 3. Tableaux de données et démographie\n",
    "---"
   ]
  },
  {
   "cell_type": "markdown",
   "metadata": {},
   "source": [
    "On veut décrire l'évolution d'une population $N$ en fonction du temps, connaissant son taux de natalité $\\tau_n$ et de mortalité $\\tau_m$ annuels, supposées constants: c'est le modèle de Malthus.\\\n",
    "La population l'année suivante $N_{i+1}$ s'obtient connaissant l'effectif de l'année en cours $N_i$, le nombre total de naissances $N_{n,i} = \\tau_n \\; N_i$ et le nombre total de décès $N_{d,i} = \\tau_m \\; N_i$ selon:\\\n",
    "$$N_{i+1} = N_i + N_{n,i} - N_{d,i} $$\n",
    "$$N_{i+1} = N_i + \\tau_n \\; N_i - \\tau_m \\; N_i$$\n",
    "$$N_{i+1} = N_i + N_i \\times \\left(\\tau_n  - \\tau_m \\right)$$\n",
    "Soit en posant $b =  \\tau_n  - \\tau_m$ :\n",
    "$$N_{i+1} = N_i + b N_i$$\n",
    "\n",
    "Si la natalité est supérieure à la mortalité, $b>0$ et la population croît. Construisons tout ça par récurrence."
   ]
  },
  {
   "cell_type": "code",
   "execution_count": 1,
   "metadata": {},
   "outputs": [],
   "source": [
    "import numpy as np"
   ]
  },
  {
   "cell_type": "markdown",
   "metadata": {},
   "source": [
    "Commençons par déclarer nos variables:"
   ]
  },
  {
   "cell_type": "code",
   "execution_count": 2,
   "metadata": {},
   "outputs": [],
   "source": [
    "tn = 0.02 # taux de natalité de 2% = 0.02\n",
    "tm = 0.01 # taux de mortalité de 1% = 0.01\n",
    "N0 = 1000 # taille initiale de la population\n",
    "durée = 100 # on simule l'évolution pendant 100 ans\n",
    "b = tn - tm # le paramètre b. "
   ]
  },
  {
   "cell_type": "markdown",
   "metadata": {},
   "source": [
    "Construisons la liste des années:"
   ]
  },
  {
   "cell_type": "code",
   "execution_count": 3,
   "metadata": {},
   "outputs": [],
   "source": [
    "t = np.arange(durée)"
   ]
  },
  {
   "cell_type": "markdown",
   "metadata": {},
   "source": [
    "Construisons maintenant par récurrence l'évolution de la population dans une liste:"
   ]
  },
  {
   "cell_type": "code",
   "execution_count": 4,
   "metadata": {},
   "outputs": [
    {
     "name": "stdout",
     "output_type": "stream",
     "text": [
      "[1000, 1010.0, 1020.1, 1030.301, 1040.60401, 1051.0100501, 1061.5201506009998, 1072.1353521070098, 1082.85670562808, 1093.6852726843606]\n"
     ]
    }
   ],
   "source": [
    "N = [N0] # initialisation par création d'une liste contenant le premier élément\n",
    "\n",
    "for i in range(1, len(t)):\n",
    "    N.append(N[i-1] + b*N[i-1])\n",
    "    \n",
    "print(N[0:10]) # affiche les 10 premières valeurs de N"
   ]
  },
  {
   "cell_type": "markdown",
   "metadata": {},
   "source": [
    "Etant donné que l'on parle de l'effectif d'une poulation, on aimerait bien travailler avec des valeurs entières .\n",
    "On va modifier le code pour que les valeurs stockées dans la liste soient entière, avec l'instruction `int()` *(entier se dit integer en anglais, lorsqu'il s'agit de qualifier un nombre)*.\n"
   ]
  },
  {
   "cell_type": "code",
   "execution_count": 5,
   "metadata": {},
   "outputs": [
    {
     "name": "stdout",
     "output_type": "stream",
     "text": [
      "[1000, 1010, 1020, 1030, 1040, 1050, 1060, 1070, 1080, 1090]\n"
     ]
    }
   ],
   "source": [
    "N = [N0] # initialisation\n",
    "\n",
    "for i in range(1, len(t)):\n",
    "    N.append(int(N[i-1] + b*N[i-1]))\n",
    "    \n",
    "print(N[0:10]) # affiche les 10 premières valeurs de N"
   ]
  },
  {
   "cell_type": "markdown",
   "metadata": {},
   "source": [
    "On voit que cette technique fait perdre un peu d'information *(1090 au lieu de 1093...)*. Essayons avec la fonction `round()`:"
   ]
  },
  {
   "cell_type": "code",
   "execution_count": 6,
   "metadata": {},
   "outputs": [
    {
     "name": "stdout",
     "output_type": "stream",
     "text": [
      "[1000, 1010, 1020, 1030, 1040, 1050, 1060, 1071, 1082, 1093]\n"
     ]
    }
   ],
   "source": [
    "N = [N0] # initialisation\n",
    "\n",
    "for i in range(1, len(t)):\n",
    "    N.append(round(N[i-1] + b*N[i-1]))\n",
    "    \n",
    "print(N[0:10]) # affiche les 10 premières valeurs de N"
   ]
  },
  {
   "cell_type": "markdown",
   "metadata": {},
   "source": [
    "C'est mieux. On peut maintenant représenter tout ça sur un graphique:"
   ]
  },
  {
   "cell_type": "code",
   "execution_count": 7,
   "metadata": {},
   "outputs": [
    {
     "data": {
      "image/png": "[encoded data removed]",
      "text/plain": [
       "<Figure size 720x432 with 1 Axes>"
      ]
     },
     "metadata": {
      "needs_background": "light"
     },
     "output_type": "display_data"
    }
   ],
   "source": [
    "import matplotlib.pyplot as plt\n",
    "\n",
    "plt.figure(figsize=(10,6)) \n",
    "plt.plot(t, N, label='Population')\n",
    "plt.xlabel('Années')\n",
    "plt.ylabel('Population')\n",
    "plt.title('Démographie')\n",
    "plt.legend()\n",
    "plt.grid(True)\n",
    "plt.show()"
   ]
  },
  {
   "cell_type": "markdown",
   "metadata": {},
   "source": [
    "Peut-on voir l'influence du paramètre b sur la dynamique de population? C'est possible en créant un curseur avec la bibliothèque `ipywidgets` et son module `interact`: "
   ]
  },
  {
   "cell_type": "code",
   "execution_count": 8,
   "metadata": {},
   "outputs": [
    {
     "data": {
      "application/vnd.jupyter.widget-view+json": {
       "model_id": "f43fe0cfe5b047a6a82400f4a9d3021f",
       "version_major": 2,
       "version_minor": 0
      },
      "text/plain": [
       "interactive(children=(FloatSlider(value=0.0, description='B', max=1.0, min=-1.0, step=0.01), Output()), _dom_c…"
      ]
     },
     "metadata": {},
     "output_type": "display_data"
    }
   ],
   "source": [
    "from ipywidgets import interact\n",
    "\n",
    "@interact\n",
    "def population (B=(-1, 1, 0.01)): # B varie de -1 à +1 par pas de 0.01. Je l'appelle B au lieu de b \n",
    "                                  # pour ne pas risquer de conflits avec le b minuscule précédent.\n",
    "    N = [N0] # initialisation\n",
    "    for i in range(1, len(t)):\n",
    "        N.append(round(N[i-1] + B*N[i-1]))\n",
    "    plt.figure(figsize=(10,6)) \n",
    "    plt.plot(t, N, label='Population')\n",
    "    plt.xlabel('Années')\n",
    "    plt.ylabel('Population')\n",
    "    plt.title('Démographie')\n",
    "    plt.legend()\n",
    "    plt.grid(True)\n",
    "    plt.xlim([-1, 100])\n",
    "    plt.ylim([-1,1E6])\n",
    "    plt.show()"
   ]
  },
  {
   "cell_type": "markdown",
   "metadata": {},
   "source": [
    "Une belle croissance exponentielle!"
   ]
  },
  {
   "cell_type": "markdown",
   "metadata": {},
   "source": [
    "---"
   ]
  },
  {
   "cell_type": "markdown",
   "metadata": {},
   "source": [
    "# Le code en résumé: "
   ]
  },
  {
   "cell_type": "code",
   "execution_count": 16,
   "metadata": {},
   "outputs": [
    {
     "data": {
      "image/png": "[encoded data removed]",
      "text/plain": [
       "<Figure size 720x432 with 1 Axes>"
      ]
     },
     "metadata": {
      "needs_background": "light"
     },
     "output_type": "display_data"
    }
   ],
   "source": [
    "import numpy as np\n",
    "import matplotlib.pyplot as plt\n",
    "from ipywidgets import interact\n",
    "\n",
    "tn = 0.02 # taux de natalité de 2% = 0.02\n",
    "tm = 0.01 # taux de mortalité de 1% = 0.01\n",
    "N0 = 1000 # taille initiale de la population\n",
    "durée = 100 # on simule l'évolution pendant 100 ans\n",
    "b = tn - tm # le paramètre b. \n",
    "\n",
    "t = np.arange(durée)\n",
    "\n",
    "N = [N0]\n",
    "for i in range(1, len(t)):\n",
    "    N.append(round(N[i-1] + b*N[i-1]))\n",
    "    \n",
    "plt.figure(figsize=(10,6)) \n",
    "plt.plot(t, N, label='Population')\n",
    "plt.xlabel('Années')\n",
    "plt.ylabel('Population')\n",
    "plt.title('Démographie')\n",
    "plt.legend()\n",
    "plt.grid(True)\n",
    "plt.xlim([-1, 100])\n",
    "plt.ylim([-1, 4000])\n",
    "plt.show()"
   ]
  },
  {
   "cell_type": "markdown",
   "metadata": {},
   "source": [
    "---"
   ]
  },
  {
   "cell_type": "markdown",
   "metadata": {},
   "source": [
    "On peut vouloir regrouper les listes dans un tableur, comme Libre Office. On utilise pour cela la bibliothèque `pandas`, qui va nous permettre de gérer des tableaux de valeurs *(dataframe en anglais)*."
   ]
  },
  {
   "cell_type": "code",
   "execution_count": 10,
   "metadata": {},
   "outputs": [],
   "source": [
    "import pandas as pd"
   ]
  },
  {
   "cell_type": "markdown",
   "metadata": {},
   "source": [
    "Créons notre tableau colonne par colonne, avec la commande `pd.DataFrame({'Titre col1' : col1, etc..})` et affichons le début du tableau avec la commande `tableau.head()`:"
   ]
  },
  {
   "cell_type": "code",
   "execution_count": 11,
   "metadata": {},
   "outputs": [
    {
     "data": {
      "text/html": [
       "<div>\n",
       "<style scoped>\n",
       "    .dataframe tbody tr th:only-of-type {\n",
       "        vertical-align: middle;\n",
       "    }\n",
       "\n",
       "    .dataframe tbody tr th {\n",
       "        vertical-align: top;\n",
       "    }\n",
       "\n",
       "    .dataframe thead th {\n",
       "        text-align: right;\n",
       "    }\n",
       "</style>\n",
       "<table border=\"1\" class=\"dataframe\">\n",
       "  <thead>\n",
       "    <tr style=\"text-align: right;\">\n",
       "      <th></th>\n",
       "      <th>An</th>\n",
       "      <th>Pop</th>\n",
       "    </tr>\n",
       "  </thead>\n",
       "  <tbody>\n",
       "    <tr>\n",
       "      <th>0</th>\n",
       "      <td>0</td>\n",
       "      <td>1000</td>\n",
       "    </tr>\n",
       "    <tr>\n",
       "      <th>1</th>\n",
       "      <td>1</td>\n",
       "      <td>1010</td>\n",
       "    </tr>\n",
       "    <tr>\n",
       "      <th>2</th>\n",
       "      <td>2</td>\n",
       "      <td>1020</td>\n",
       "    </tr>\n",
       "    <tr>\n",
       "      <th>3</th>\n",
       "      <td>3</td>\n",
       "      <td>1030</td>\n",
       "    </tr>\n",
       "    <tr>\n",
       "      <th>4</th>\n",
       "      <td>4</td>\n",
       "      <td>1040</td>\n",
       "    </tr>\n",
       "  </tbody>\n",
       "</table>\n",
       "</div>"
      ],
      "text/plain": [
       "   An   Pop\n",
       "0   0  1000\n",
       "1   1  1010\n",
       "2   2  1020\n",
       "3   3  1030\n",
       "4   4  1040"
      ]
     },
     "execution_count": 11,
     "metadata": {},
     "output_type": "execute_result"
    }
   ],
   "source": [
    "data = pd.DataFrame({'An': t,\n",
    "                     'Pop' : N})\n",
    "data.head()"
   ]
  },
  {
   "cell_type": "markdown",
   "metadata": {},
   "source": [
    "Tracer un graphique n'a jamais été aussi simple avec pandas:"
   ]
  },
  {
   "cell_type": "code",
   "execution_count": 12,
   "metadata": {},
   "outputs": [
    {
     "data": {
      "text/plain": [
       "<matplotlib.axes._subplots.AxesSubplot at 0xba29f88>"
      ]
     },
     "execution_count": 12,
     "metadata": {},
     "output_type": "execute_result"
    },
    {
     "data": {
      "image/png": "[encoded data removed]",
      "text/plain": [
       "<Figure size 432x288 with 1 Axes>"
      ]
     },
     "metadata": {
      "needs_background": "light"
     },
     "output_type": "display_data"
    }
   ],
   "source": [
    "data['Pop'].plot()"
   ]
  },
  {
   "cell_type": "code",
   "execution_count": null,
   "metadata": {},
   "outputs": [],
   "source": []
  }
 ],
 "metadata": {
  "kernelspec": {
   "display_name": "Python 3",
   "language": "python",
   "name": "python3"
  },
  "language_info": {
   "codemirror_mode": {
    "name": "ipython",
    "version": 3
   },
   "file_extension": ".py",
   "mimetype": "text/x-python",
   "name": "python",
   "nbconvert_exporter": "python",
   "pygments_lexer": "ipython3",
   "version": "3.8.0"
  }
 },
 "nbformat": 4,
 "nbformat_minor": 4
}
