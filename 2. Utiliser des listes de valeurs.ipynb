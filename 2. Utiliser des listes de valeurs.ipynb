{
 "cells": [
  {
   "cell_type": "markdown",
   "metadata": {},
   "source": [
    "# 2. Utiliser des listes de valeurs\n",
    "---"
   ]
  },
  {
   "cell_type": "markdown",
   "metadata": {},
   "source": [
    "Le préambule habituel:"
   ]
  },
  {
   "cell_type": "code",
   "execution_count": 2,
   "metadata": {},
   "outputs": [],
   "source": [
    "import numpy as np                \n",
    "import matplotlib.pyplot as plt\n",
    "\n",
    "plt.rcParams['figure.figsize'] = (15, 5) # règle une fois pour toutes la taille d'affichage des graphiques."
   ]
  },
  {
   "cell_type": "markdown",
   "metadata": {},
   "source": [
    "## 2.1 Création et description rapide\n",
    "Imaginons une nouvelle maladie particulièrement contagieuse dont on chercherait à enregistrer le nombre de nouveaux cas déclarés chaque jour. On peut stocker ces valeurs dans une liste, qui est un tableau à une dimension:"
   ]
  },
  {
   "cell_type": "code",
   "execution_count": 3,
   "metadata": {},
   "outputs": [
    {
     "name": "stdout",
     "output_type": "stream",
     "text": [
      "[17, 19, 23, 20, 29, 26, 32, 33]\n"
     ]
    }
   ],
   "source": [
    "nc = [17, 19, 23, 20, 29, 26, 32, 33] # nc comme \"nouveaux cas\"\n",
    "print(nc)"
   ]
  },
  {
   "cell_type": "markdown",
   "metadata": {},
   "source": [
    "Chaque élément de la liste est indexé par un numéro entier. \\\n",
    "Que vaut le nombre de nouveaux cas n°3?"
   ]
  },
  {
   "cell_type": "code",
   "execution_count": 4,
   "metadata": {},
   "outputs": [
    {
     "name": "stdout",
     "output_type": "stream",
     "text": [
      "20\n"
     ]
    }
   ],
   "source": [
    "print(nc[3])"
   ]
  },
  {
   "cell_type": "markdown",
   "metadata": {},
   "source": [
    "On constate que l'élément numéroté 3 est en réalité le quatrième de la liste. C'est parce que la numérotation des éléments commence par le numéro zéro."
   ]
  },
  {
   "cell_type": "code",
   "execution_count": 5,
   "metadata": {},
   "outputs": [
    {
     "name": "stdout",
     "output_type": "stream",
     "text": [
      "17\n"
     ]
    }
   ],
   "source": [
    "print(nc[0])"
   ]
  },
  {
   "cell_type": "markdown",
   "metadata": {},
   "source": [
    "Du coup, si on veut la troisième valeur (ici 23), il faut taper:"
   ]
  },
  {
   "cell_type": "code",
   "execution_count": 6,
   "metadata": {},
   "outputs": [
    {
     "name": "stdout",
     "output_type": "stream",
     "text": [
      "23\n"
     ]
    }
   ],
   "source": [
    "print(nc[2])"
   ]
  },
  {
   "cell_type": "markdown",
   "metadata": {},
   "source": [
    "Quelle est la longeur de la liste? Autrement dit, combien comporte-t-elle d'éléments?"
   ]
  },
  {
   "cell_type": "code",
   "execution_count": 7,
   "metadata": {},
   "outputs": [
    {
     "name": "stdout",
     "output_type": "stream",
     "text": [
      "La liste comporte 8 éléments.\n"
     ]
    }
   ],
   "source": [
    "print(\"La liste comporte\",  len(nc), \"éléments.\")  #  l'instruction 'len(liste)' renvoie le nombre d'éléments contenus dans la liste.\n",
    "                                                   #  (len comme length, longueur en anglais)"
   ]
  },
  {
   "cell_type": "markdown",
   "metadata": {},
   "source": [
    "On peut représenter ces valeurs dans un graphique: il faut créer une liste des jours correspondant aux numéros de la liste `nc`."
   ]
  },
  {
   "cell_type": "code",
   "execution_count": 8,
   "metadata": {},
   "outputs": [
    {
     "name": "stdout",
     "output_type": "stream",
     "text": [
      "[0 1 2 3 4 5 6 7]\n"
     ]
    }
   ],
   "source": [
    "jours = np.arange(0, len(nc))\n",
    "print(jours)"
   ]
  },
  {
   "cell_type": "code",
   "execution_count": 9,
   "metadata": {},
   "outputs": [
    {
     "data": {
      "image/png": "[encoded data removed]",
      "text/plain": [
       "<Figure size 1080x360 with 1 Axes>"
      ]
     },
     "metadata": {
      "needs_background": "light"
     },
     "output_type": "display_data"
    }
   ],
   "source": [
    "plt.bar(jours, nc) #plt.plot() affiche une courbe, plt.bar() affiche un diagramme en bâtons.\n",
    "plt.show()"
   ]
  },
  {
   "cell_type": "code",
   "execution_count": null,
   "metadata": {},
   "outputs": [],
   "source": [
    "Bien. Le nombre de cas nouveaux fluctue, mais la tendance est à l'augmentation.\\"
   ]
  },
  {
   "cell_type": "markdown",
   "metadata": {},
   "source": [
    "## 2.2 Création d'une liste par récurrence\n",
    "On voudrait créer une autre liste à partir de la première: celle qui donnerait le nombre total de cas détectés depuis le début de l'épidémie. \\\n",
    "Elle est définie par récurrence : le nombre total de cas au jour `i` est égal au nombre de cas total au jour d'avant `i-1` auquel on ajoute le nombre de cas détéctés au jour `i`:\\\n",
    "$$\\normalsize{nombre \\; total_i = nombre \\; total_{i-1} + nombre \\; de\\; cas \\;nouveaux_i}$$\n",
    "$$\\normalsize{nt_i = nt_{i-1} + nc_i}$$"
   ]
  },
  {
   "cell_type": "code",
   "execution_count": 10,
   "metadata": {},
   "outputs": [
    {
     "name": "stdout",
     "output_type": "stream",
     "text": [
      "[17, 36, 59, 79, 108, 134, 166, 199]\n"
     ]
    }
   ],
   "source": [
    "nt=[nc[0]] # on crée  une liste dont le premier élément est le nombre de cas au jour 0.\n",
    "\n",
    "for i in range(1, len(nc)):      # on fait tourner la boucle pour i variant de 1 à 8.\n",
    "    x = nt[i-1] + nc[i]          # on calcule le nombre total de cas au jour i. On l'appelle x.\n",
    "    nt.append(x)                 # on ajoute la valeur calculée à la liste avec la fonction 'liste.append(nombre)'\n",
    "\n",
    "print(nt)"
   ]
  },
  {
   "cell_type": "markdown",
   "metadata": {},
   "source": [
    "On peut représenter le nombre total de cas en fonction du jour:"
   ]
  },
  {
   "cell_type": "code",
   "execution_count": 11,
   "metadata": {},
   "outputs": [
    {
     "data": {
      "image/png": "[encoded data removed]",
      "text/plain": [
       "<Figure size 1080x360 with 1 Axes>"
      ]
     },
     "metadata": {
      "needs_background": "light"
     },
     "output_type": "display_data"
    }
   ],
   "source": [
    "plt.plot(jours, nt, color='darkcyan', marker='+', label='Nombre total de cas' )\n",
    "plt.bar(jours, nc, label='Nouveaux cas')\n",
    "plt.xlabel('Jour n°')\n",
    "plt.ylabel('Nombre de cas')\n",
    "plt.title(\"Evolution de l'épidémie\")\n",
    "plt.legend()\n",
    "plt.grid(True) \n",
    "plt.show()"
   ]
  },
  {
   "cell_type": "markdown",
   "metadata": {},
   "source": [
    "---\n",
    "## 2.3 Le code en résumé:"
   ]
  },
  {
   "cell_type": "code",
   "execution_count": 12,
   "metadata": {},
   "outputs": [
    {
     "data": {
      "image/png": "[encoded data removed]",
      "text/plain": [
       "<Figure size 1080x360 with 1 Axes>"
      ]
     },
     "metadata": {
      "needs_background": "light"
     },
     "output_type": "display_data"
    }
   ],
   "source": [
    "nc = [17, 19, 23, 20, 29, 26, 32, 33]\n",
    "jours = np.arange(0, len(nc))\n",
    "\n",
    "nt=[nc[0]] \n",
    "for i in range(1, len(nc)):            \n",
    "    nt.append(nt[i-1] + nc[i] ) # On n'est pas obligé d'utiliser l'intermédiaire x précédent.\n",
    "                                # On peut entrer directement la commande ci contre.\n",
    "    \n",
    "plt.plot(jours, nt, color='darkcyan', marker='+', label='Nombre total de cas' )\n",
    "plt.bar(jours, nc, label='Nouveaux cas')\n",
    "plt.xlabel('Jour n°')\n",
    "plt.ylabel('Nombre de cas')\n",
    "plt.title(\"Evolution de l'épidémie\")\n",
    "plt.legend()\n",
    "plt.grid(True)\n",
    "plt.show()"
   ]
  },
  {
   "cell_type": "code",
   "execution_count": null,
   "metadata": {},
   "outputs": [],
   "source": []
  }
 ],
 "metadata": {
  "kernelspec": {
   "display_name": "Python 3",
   "language": "python",
   "name": "python3"
  },
  "language_info": {
   "codemirror_mode": {
    "name": "ipython",
    "version": 3
   },
   "file_extension": ".py",
   "mimetype": "text/x-python",
   "name": "python",
   "nbconvert_exporter": "python",
   "pygments_lexer": "ipython3",
   "version": "3.8.0"
  }
 },
 "nbformat": 4,
 "nbformat_minor": 4
}
